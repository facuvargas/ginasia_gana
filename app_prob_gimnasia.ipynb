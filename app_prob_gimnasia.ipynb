{
 "cells": [
  {
   "cell_type": "code",
   "execution_count": 1,
   "id": "8de05095",
   "metadata": {},
   "outputs": [],
   "source": [
    "import pandas as pd\n",
    "import numpy as np\n",
    "import matplotlib.pyplot as plt\n",
    "from sklearn.linear_model import LogisticRegression\n",
    "from sklearn.preprocessing import StandardScaler\n",
    "import tkinter as tk\n",
    "from tkinter import Label, Entry, Button\n",
    "import pandas as pd\n",
    "import numpy as np\n",
    "from sklearn.linear_model import LogisticRegression\n"
   ]
  },
  {
   "cell_type": "code",
   "execution_count": 2,
   "id": "b1646fd8",
   "metadata": {},
   "outputs": [],
   "source": [
    "gimnasia = pd.read_excel(\"ginasia.xlsx\")\n",
    "# Crear una función para contar la cantidad de goles a favor y en contra en cada fila\n",
    "def contar_goles_por_fila(row):\n",
    "    goles_favor = sum(1 for col in row.index if 'gol_favor' in col and not pd.isna(row[col]))\n",
    "    goles_contra = sum(1 for col in row.index if 'en_con' in col and not pd.isna(row[col]))\n",
    "    return goles_favor - goles_contra  # Calcular la Diferencia de Goles\n",
    "\n",
    "# Aplicar la función a cada fila para contar los goles y calcular la Diferencia de Goles\n",
    "gimnasia['Diferencia_Goles'] = gimnasia.apply(contar_goles_por_fila, axis=1)\n",
    "# Crear la variable \"Resultado del Partido\" en base a la diferencia de goles\n",
    "gimnasia['Resultado_Partido'] = gimnasia['Diferencia_Goles'].apply(lambda x: 'Victoria' if x > 0 else ('Empate' if x == 0 else 'Derrota'))\n",
    "# Crear una nueva columna 'Resultado' que codifique los resultados como números (0 para Derrota, 1 para Empate, 2 para Victoria)\n",
    "gimnasia['Resultado'] = gimnasia['Resultado_Partido'].apply(lambda x: 0 if x == 'Derrota' else (1 if x == 'Empate' else 2))\n",
    "\n",
    "\n",
    "# Calcular la diferencia en días entre cada partido\n",
    "gimnasia['Fecha'] = pd.to_datetime(gimnasia['Fecha'], format='%d-%b')\n",
    "gimnasia['Dias_Descanso'] = gimnasia['Fecha'].diff().dt.days\n",
    "\n",
    "# Asegurarse de que 'Dia_Semana' sea de tipo categórico\n",
    "gimnasia['Dia_Semana'] = gimnasia['Fecha'].dt.day_name()\n",
    "gimnasia['Dia_Semana'] = gimnasia['Dia_Semana'].astype('category')\n",
    "\n",
    "# Codificar la variable categórica 'Dia_Semana' en variables ficticias\n",
    "gimnasia = pd.get_dummies(gimnasia, columns=['Dia_Semana'], drop_first=True)\n",
    "gimnasia['Minutos'] = np.random.randint(0, 91, len(gimnasia))\n",
    "\n",
    "# Definir las variables predictoras X\n",
    "\n",
    "# Transformar la variable categórica 'Condicion' en una variable binaria\n",
    "gimnasia['Condicion'] = gimnasia['Condicion'].apply(lambda x: 1 if x == 'Local' else 0)\n",
    "gimnasia['primer_gol'] = gimnasia['primer_gol'].apply(lambda x: 1 if x == 'Local' else 0)\n"
   ]
  },
  {
   "cell_type": "code",
   "execution_count": 3,
   "id": "0de8f9a5",
   "metadata": {},
   "outputs": [
    {
     "data": {
      "text/html": [
       "<style>#sk-container-id-1 {color: black;}#sk-container-id-1 pre{padding: 0;}#sk-container-id-1 div.sk-toggleable {background-color: white;}#sk-container-id-1 label.sk-toggleable__label {cursor: pointer;display: block;width: 100%;margin-bottom: 0;padding: 0.3em;box-sizing: border-box;text-align: center;}#sk-container-id-1 label.sk-toggleable__label-arrow:before {content: \"▸\";float: left;margin-right: 0.25em;color: #696969;}#sk-container-id-1 label.sk-toggleable__label-arrow:hover:before {color: black;}#sk-container-id-1 div.sk-estimator:hover label.sk-toggleable__label-arrow:before {color: black;}#sk-container-id-1 div.sk-toggleable__content {max-height: 0;max-width: 0;overflow: hidden;text-align: left;background-color: #f0f8ff;}#sk-container-id-1 div.sk-toggleable__content pre {margin: 0.2em;color: black;border-radius: 0.25em;background-color: #f0f8ff;}#sk-container-id-1 input.sk-toggleable__control:checked~div.sk-toggleable__content {max-height: 200px;max-width: 100%;overflow: auto;}#sk-container-id-1 input.sk-toggleable__control:checked~label.sk-toggleable__label-arrow:before {content: \"▾\";}#sk-container-id-1 div.sk-estimator input.sk-toggleable__control:checked~label.sk-toggleable__label {background-color: #d4ebff;}#sk-container-id-1 div.sk-label input.sk-toggleable__control:checked~label.sk-toggleable__label {background-color: #d4ebff;}#sk-container-id-1 input.sk-hidden--visually {border: 0;clip: rect(1px 1px 1px 1px);clip: rect(1px, 1px, 1px, 1px);height: 1px;margin: -1px;overflow: hidden;padding: 0;position: absolute;width: 1px;}#sk-container-id-1 div.sk-estimator {font-family: monospace;background-color: #f0f8ff;border: 1px dotted black;border-radius: 0.25em;box-sizing: border-box;margin-bottom: 0.5em;}#sk-container-id-1 div.sk-estimator:hover {background-color: #d4ebff;}#sk-container-id-1 div.sk-parallel-item::after {content: \"\";width: 100%;border-bottom: 1px solid gray;flex-grow: 1;}#sk-container-id-1 div.sk-label:hover label.sk-toggleable__label {background-color: #d4ebff;}#sk-container-id-1 div.sk-serial::before {content: \"\";position: absolute;border-left: 1px solid gray;box-sizing: border-box;top: 0;bottom: 0;left: 50%;z-index: 0;}#sk-container-id-1 div.sk-serial {display: flex;flex-direction: column;align-items: center;background-color: white;padding-right: 0.2em;padding-left: 0.2em;position: relative;}#sk-container-id-1 div.sk-item {position: relative;z-index: 1;}#sk-container-id-1 div.sk-parallel {display: flex;align-items: stretch;justify-content: center;background-color: white;position: relative;}#sk-container-id-1 div.sk-item::before, #sk-container-id-1 div.sk-parallel-item::before {content: \"\";position: absolute;border-left: 1px solid gray;box-sizing: border-box;top: 0;bottom: 0;left: 50%;z-index: -1;}#sk-container-id-1 div.sk-parallel-item {display: flex;flex-direction: column;z-index: 1;position: relative;background-color: white;}#sk-container-id-1 div.sk-parallel-item:first-child::after {align-self: flex-end;width: 50%;}#sk-container-id-1 div.sk-parallel-item:last-child::after {align-self: flex-start;width: 50%;}#sk-container-id-1 div.sk-parallel-item:only-child::after {width: 0;}#sk-container-id-1 div.sk-dashed-wrapped {border: 1px dashed gray;margin: 0 0.4em 0.5em 0.4em;box-sizing: border-box;padding-bottom: 0.4em;background-color: white;}#sk-container-id-1 div.sk-label label {font-family: monospace;font-weight: bold;display: inline-block;line-height: 1.2em;}#sk-container-id-1 div.sk-label-container {text-align: center;}#sk-container-id-1 div.sk-container {/* jupyter's `normalize.less` sets `[hidden] { display: none; }` but bootstrap.min.css set `[hidden] { display: none !important; }` so we also need the `!important` here to be able to override the default hidden behavior on the sphinx rendered scikit-learn.org. See: https://github.com/scikit-learn/scikit-learn/issues/21755 */display: inline-block !important;position: relative;}#sk-container-id-1 div.sk-text-repr-fallback {display: none;}</style><div id=\"sk-container-id-1\" class=\"sk-top-container\"><div class=\"sk-text-repr-fallback\"><pre>LogisticRegression(max_iter=10000, multi_class=&#x27;multinomial&#x27;)</pre><b>In a Jupyter environment, please rerun this cell to show the HTML representation or trust the notebook. <br />On GitHub, the HTML representation is unable to render, please try loading this page with nbviewer.org.</b></div><div class=\"sk-container\" hidden><div class=\"sk-item\"><div class=\"sk-estimator sk-toggleable\"><input class=\"sk-toggleable__control sk-hidden--visually\" id=\"sk-estimator-id-1\" type=\"checkbox\" checked><label for=\"sk-estimator-id-1\" class=\"sk-toggleable__label sk-toggleable__label-arrow\">LogisticRegression</label><div class=\"sk-toggleable__content\"><pre>LogisticRegression(max_iter=10000, multi_class=&#x27;multinomial&#x27;)</pre></div></div></div></div></div>"
      ],
      "text/plain": [
       "LogisticRegression(max_iter=10000, multi_class='multinomial')"
      ]
     },
     "execution_count": 3,
     "metadata": {},
     "output_type": "execute_result"
    }
   ],
   "source": [
    "X = gimnasia[['Diferencia_Goles', 'Condicion', 'descanso' ,'Dia_Semana_Saturday', 'Minutos']]\n",
    "\n",
    "\n",
    "# La columna objetivo es 'Resultado'\n",
    "y = gimnasia['Resultado']\n",
    "# Crear un modelo de regresión logística multinomial (Softmax)\n",
    "model = LogisticRegression(multi_class='multinomial', solver='lbfgs', max_iter = 10000)\n",
    "\n",
    "\n",
    "# Ajustar el modelo (entrenamiento)\n",
    "model.fit(X, y)"
   ]
  },
  {
   "cell_type": "code",
   "execution_count": 4,
   "id": "2a0d1673",
   "metadata": {},
   "outputs": [],
   "source": [
    "# Cargar tu modelo previamente entrenado\n",
    "# Nota: Asegúrate de tener 'model' definido y entrenado como lo has hecho en tu código anterior.\n",
    "\n",
    "# Función para calcular probabilidades y mostrar resultados\n",
    "def calcular_probabilidades():\n",
    "    minutos = int(minutos_entry.get())\n",
    "    diferencia_goles = int(diferencia_goles_entry.get())\n",
    "\n",
    "    nueva_situacion = pd.DataFrame({\n",
    "        'Diferencia_Goles': [diferencia_goles],\n",
    "        'Condicion': [1],  # Puedes cambiar esto según la condición deseada (Local o Visitante)\n",
    "        'descanso': [8],\n",
    "        'Dia_Semana_Saturday': [1],\n",
    "        'Minutos': [minutos]\n",
    "    })\n",
    "\n",
    "    probabilidades = model.predict_proba(nueva_situacion)\n",
    "\n",
    "    resultado_label.config(text=f\"Probabilidad de Derrota: {probabilidades[0][0]:.2%}\\n\"\n",
    "                                  f\"Probabilidad de Empate: {probabilidades[0][1]:.2%}\\n\"\n",
    "                                  f\"Probabilidad de Victoria: {probabilidades[0][2]:.2%}\")\n",
    "\n",
    "# Crear la ventana principal\n",
    "app = tk.Tk()\n",
    "app.title(\"Gana el lobito\")\n",
    "\n",
    "# Etiqueta y entrada para minutos\n",
    "minutos_label = Label(app, text=\"Minutos:\")\n",
    "minutos_label.pack()\n",
    "minutos_entry = Entry(app)\n",
    "minutos_entry.pack()\n",
    "\n",
    "# Etiqueta y entrada para diferencia de goles\n",
    "diferencia_goles_label = Label(app, text=\"Diferencia de Goles:\")\n",
    "diferencia_goles_label.pack()\n",
    "diferencia_goles_entry = Entry(app)\n",
    "diferencia_goles_entry.pack()\n",
    "\n",
    "# Botón para calcular probabilidades\n",
    "calcular_button = Button(app, text=\"Calcular Probabilidades\", command=calcular_probabilidades)\n",
    "calcular_button.pack()\n",
    "\n",
    "# Etiqueta para mostrar resultados\n",
    "resultado_label = Label(app, text=\"\")\n",
    "resultado_label.pack()\n",
    "\n",
    "# Ejecutar la aplicación\n",
    "app.mainloop()"
   ]
  },
  {
   "cell_type": "code",
   "execution_count": null,
   "id": "b4c90853",
   "metadata": {},
   "outputs": [],
   "source": []
  }
 ],
 "metadata": {
  "kernelspec": {
   "display_name": "Python 3 (ipykernel)",
   "language": "python",
   "name": "python3"
  },
  "language_info": {
   "codemirror_mode": {
    "name": "ipython",
    "version": 3
   },
   "file_extension": ".py",
   "mimetype": "text/x-python",
   "name": "python",
   "nbconvert_exporter": "python",
   "pygments_lexer": "ipython3",
   "version": "3.9.13"
  }
 },
 "nbformat": 4,
 "nbformat_minor": 5
}
